{
  "metadata": {
    "language_info": {
      "codemirror_mode": {
        "name": "python",
        "version": 3
      },
      "file_extension": ".py",
      "mimetype": "text/x-python",
      "name": "python",
      "nbconvert_exporter": "python",
      "pygments_lexer": "ipython3",
      "version": "3.8"
    },
    "kernelspec": {
      "name": "python",
      "display_name": "Python (Pyodide)",
      "language": "python"
    }
  },
  "nbformat_minor": 4,
  "nbformat": 4,
  "cells": [
    {
      "cell_type": "code",
      "source": "\nimport pandas as pd\narray = [1, 3, 5, 7, 9, 11]\nseries_obj = pd.Series(array)\narr = series_obj.values\narr",
      "metadata": {
        "trusted": true
      },
      "execution_count": 4,
      "outputs": [
        {
          "execution_count": 4,
          "output_type": "execute_result",
          "data": {
            "text/plain": "array([ 1,  3,  5,  7,  9, 11], dtype=int64)"
          },
          "metadata": {}
        }
      ]
    },
    {
      "cell_type": "code",
      "source": "reshaped_arr=arr.reshape((3,2))\nreshaped_arr",
      "metadata": {
        "trusted": true
      },
      "execution_count": 5,
      "outputs": [
        {
          "execution_count": 5,
          "output_type": "execute_result",
          "data": {
            "text/plain": "array([[ 1,  3],\n       [ 5,  7],\n       [ 9, 11]], dtype=int64)"
          },
          "metadata": {}
        }
      ]
    },
    {
      "cell_type": "code",
      "source": "import pandas as pd\narray=[\"anju\",\"karthikeyu\",\"ramu\",\"abhi\",\"somu\",\"bhavya\"]\nseries_obj=pd.Series(array)\nprint(\"Given Series:\\n\",series_obj)\narr=series_obj.values\narr",
      "metadata": {
        "trusted": true
      },
      "execution_count": 6,
      "outputs": [
        {
          "name": "stdout",
          "text": "Given Series:\n 0          anju\n1    karthikeyu\n2          ramu\n3          abhi\n4          somu\n5        bhavya\ndtype: object\n",
          "output_type": "stream"
        },
        {
          "execution_count": 6,
          "output_type": "execute_result",
          "data": {
            "text/plain": "array(['anju', 'karthikeyu', 'ramu', 'abhi', 'somu', 'bhavya'],\n      dtype=object)"
          },
          "metadata": {}
        }
      ]
    },
    {
      "cell_type": "code",
      "source": "reshaped_arr=arr.reshape((2,3))\nprint(\"After Reshaping:\\n\",reshaped_arr)\n",
      "metadata": {
        "trusted": true
      },
      "execution_count": 8,
      "outputs": [
        {
          "name": "stdout",
          "text": "After Reshaping:\n [['anju' 'karthikeyu' 'ramu']\n ['abhi' 'somu' 'bhavya']]\n",
          "output_type": "stream"
        }
      ]
    },
    {
      "cell_type": "code",
      "source": "df=pd.DataFrame({'A':['vasu','vani','kavya'],\n              'B':['masters','graduate','graduate'],\n              'C':[24,22,23]})\ndf\n            \n                   ",
      "metadata": {
        "trusted": true
      },
      "execution_count": 10,
      "outputs": [
        {
          "execution_count": 10,
          "output_type": "execute_result",
          "data": {
            "text/plain": "       A         B   C\n0   vasu   masters  24\n1   vani  graduate  22\n2  kavya  graduate  23",
            "text/html": "<div>\n<style scoped>\n    .dataframe tbody tr th:only-of-type {\n        vertical-align: middle;\n    }\n\n    .dataframe tbody tr th {\n        vertical-align: top;\n    }\n\n    .dataframe thead th {\n        text-align: right;\n    }\n</style>\n<table border=\"1\" class=\"dataframe\">\n  <thead>\n    <tr style=\"text-align: right;\">\n      <th></th>\n      <th>A</th>\n      <th>B</th>\n      <th>C</th>\n    </tr>\n  </thead>\n  <tbody>\n    <tr>\n      <th>0</th>\n      <td>vasu</td>\n      <td>masters</td>\n      <td>24</td>\n    </tr>\n    <tr>\n      <th>1</th>\n      <td>vani</td>\n      <td>graduate</td>\n      <td>22</td>\n    </tr>\n    <tr>\n      <th>2</th>\n      <td>kavya</td>\n      <td>graduate</td>\n      <td>23</td>\n    </tr>\n  </tbody>\n</table>\n</div>"
          },
          "metadata": {}
        }
      ]
    },
    {
      "cell_type": "code",
      "source": "df.pivot('A','B','C')",
      "metadata": {
        "trusted": true
      },
      "execution_count": 12,
      "outputs": [
        {
          "name": "stderr",
          "text": "<ipython-input-12-1fdd40662595>:1: FutureWarning: In a future version of pandas all arguments of DataFrame.pivot will be keyword-only.\n  df.pivot('A','B','C')\n",
          "output_type": "stream"
        },
        {
          "execution_count": 12,
          "output_type": "execute_result",
          "data": {
            "text/plain": "B      graduate  masters\nA                       \nkavya      23.0      NaN\nvani       22.0      NaN\nvasu        NaN     24.0",
            "text/html": "<div>\n<style scoped>\n    .dataframe tbody tr th:only-of-type {\n        vertical-align: middle;\n    }\n\n    .dataframe tbody tr th {\n        vertical-align: top;\n    }\n\n    .dataframe thead th {\n        text-align: right;\n    }\n</style>\n<table border=\"1\" class=\"dataframe\">\n  <thead>\n    <tr style=\"text-align: right;\">\n      <th>B</th>\n      <th>graduate</th>\n      <th>masters</th>\n    </tr>\n    <tr>\n      <th>A</th>\n      <th></th>\n      <th></th>\n    </tr>\n  </thead>\n  <tbody>\n    <tr>\n      <th>kavya</th>\n      <td>23.0</td>\n      <td>NaN</td>\n    </tr>\n    <tr>\n      <th>vani</th>\n      <td>22.0</td>\n      <td>NaN</td>\n    </tr>\n    <tr>\n      <th>vasu</th>\n      <td>NaN</td>\n      <td>24.0</td>\n    </tr>\n  </tbody>\n</table>\n</div>"
          },
          "metadata": {}
        }
      ]
    },
    {
      "cell_type": "code",
      "source": "df.pivot(index='A',columns='B',values=['C','A'])",
      "metadata": {
        "trusted": true
      },
      "execution_count": 14,
      "outputs": [
        {
          "execution_count": 14,
          "output_type": "execute_result",
          "data": {
            "text/plain": "             C                A        \nB     graduate masters graduate masters\nA                                      \nkavya       23     NaN    kavya     NaN\nvani        22     NaN     vani     NaN\nvasu       NaN      24      NaN    vasu",
            "text/html": "<div>\n<style scoped>\n    .dataframe tbody tr th:only-of-type {\n        vertical-align: middle;\n    }\n\n    .dataframe tbody tr th {\n        vertical-align: top;\n    }\n\n    .dataframe thead tr th {\n        text-align: left;\n    }\n\n    .dataframe thead tr:last-of-type th {\n        text-align: right;\n    }\n</style>\n<table border=\"1\" class=\"dataframe\">\n  <thead>\n    <tr>\n      <th></th>\n      <th colspan=\"2\" halign=\"left\">C</th>\n      <th colspan=\"2\" halign=\"left\">A</th>\n    </tr>\n    <tr>\n      <th>B</th>\n      <th>graduate</th>\n      <th>masters</th>\n      <th>graduate</th>\n      <th>masters</th>\n    </tr>\n    <tr>\n      <th>A</th>\n      <th></th>\n      <th></th>\n      <th></th>\n      <th></th>\n    </tr>\n  </thead>\n  <tbody>\n    <tr>\n      <th>kavya</th>\n      <td>23</td>\n      <td>NaN</td>\n      <td>kavya</td>\n      <td>NaN</td>\n    </tr>\n    <tr>\n      <th>vani</th>\n      <td>22</td>\n      <td>NaN</td>\n      <td>vani</td>\n      <td>NaN</td>\n    </tr>\n    <tr>\n      <th>vasu</th>\n      <td>NaN</td>\n      <td>24</td>\n      <td>NaN</td>\n      <td>vasu</td>\n    </tr>\n  </tbody>\n</table>\n</div>"
          },
          "metadata": {}
        }
      ]
    },
    {
      "cell_type": "code",
      "source": "df=pd.DataFrame({'Name':['kaju','swethasva','ramu','kaya','rani','anju'],\n                 'Gender':['male','male','male','female','female','female'],\n                 'Age':[32,54,43,76,22,65]})\nprint(\"Dataser\")\nprint(df)\nprint(\"-\"*40)\ndef age_bucket(age):\n    if age<=18:\n        return\"<18\"\n    else:\n        return\">18\"\n    df['age group']=df['age'].kapplu(age_bucket)\n    gender = pd.DataFrame(df.Gender.value_counts(normalize=True)*100).reset_index()\ngender.columns = ['Gender', '%Gender']\ndf = pd.merge(left=df, right=gender, how='inner', on=['Gender'])\n# creating pivot table\ntable = pd.pivot_table(df, index=['Gender', '%Gender', 'Age Group'],\nvalues=['Name'], aggfunc={'Name': 'count',})\n# display table\nprint(\"Table\")\nprint(table)",
      "metadata": {
        "trusted": true
      },
      "execution_count": 16,
      "outputs": [
        {
          "name": "stdout",
          "text": "Dataser\n        Name  Gender  Age\n0       kaju    male   32\n1  swethasva    male   54\n2       ramu    male   43\n3       kaya  female   76\n4       rani  female   22\n5       anju  female   65\n----------------------------------------\n",
          "output_type": "stream"
        },
        {
          "ename": "<class 'NameError'>",
          "evalue": "name 'gender' is not defined",
          "traceback": [
            "\u001b[0;31m---------------------------------------------------------------------------\u001b[0m",
            "\u001b[0;31mNameError\u001b[0m                                 Traceback (most recent call last)",
            "Cell \u001b[0;32mIn[16], line 14\u001b[0m\n\u001b[1;32m     12\u001b[0m     df[\u001b[38;5;124m'\u001b[39m\u001b[38;5;124mage group\u001b[39m\u001b[38;5;124m'\u001b[39m]\u001b[38;5;241m=\u001b[39mdf[\u001b[38;5;124m'\u001b[39m\u001b[38;5;124mage\u001b[39m\u001b[38;5;124m'\u001b[39m]\u001b[38;5;241m.\u001b[39mkapplu(age_bucket)\n\u001b[1;32m     13\u001b[0m     gender \u001b[38;5;241m=\u001b[39m pd\u001b[38;5;241m.\u001b[39mDataFrame(df\u001b[38;5;241m.\u001b[39mGender\u001b[38;5;241m.\u001b[39mvalue_counts(normalize\u001b[38;5;241m=\u001b[39m\u001b[38;5;28;01mTrue\u001b[39;00m)\u001b[38;5;241m*\u001b[39m\u001b[38;5;241m100\u001b[39m)\u001b[38;5;241m.\u001b[39mreset_index()\n\u001b[0;32m---> 14\u001b[0m \u001b[43mgender\u001b[49m\u001b[38;5;241m.\u001b[39mcolumns \u001b[38;5;241m=\u001b[39m [\u001b[38;5;124m'\u001b[39m\u001b[38;5;124mGender\u001b[39m\u001b[38;5;124m'\u001b[39m, \u001b[38;5;124m'\u001b[39m\u001b[38;5;132;01m%G\u001b[39;00m\u001b[38;5;124mender\u001b[39m\u001b[38;5;124m'\u001b[39m]\n\u001b[1;32m     15\u001b[0m df \u001b[38;5;241m=\u001b[39m pd\u001b[38;5;241m.\u001b[39mmerge(left\u001b[38;5;241m=\u001b[39mdf, right\u001b[38;5;241m=\u001b[39mgender, how\u001b[38;5;241m=\u001b[39m\u001b[38;5;124m'\u001b[39m\u001b[38;5;124minner\u001b[39m\u001b[38;5;124m'\u001b[39m, on\u001b[38;5;241m=\u001b[39m[\u001b[38;5;124m'\u001b[39m\u001b[38;5;124mGender\u001b[39m\u001b[38;5;124m'\u001b[39m])\n\u001b[1;32m     16\u001b[0m \u001b[38;5;66;03m# creating pivot table\u001b[39;00m\n",
            "\u001b[0;31mNameError\u001b[0m: name 'gender' is not defined"
          ],
          "output_type": "error"
        }
      ]
    },
    {
      "cell_type": "code",
      "source": "",
      "metadata": {},
      "execution_count": null,
      "outputs": []
    }
  ]
}